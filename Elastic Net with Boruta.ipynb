{
 "cells": [
  {
   "cell_type": "code",
   "execution_count": 9,
   "metadata": {},
   "outputs": [],
   "source": [
    "import pandas as pd\n",
    "import numpy as np\n",
    "import matplotlib.pyplot as plt\n",
    "import seaborn as sns\n",
    "from sklearn.preprocessing import StandardScaler\n",
    "from sklearn.linear_model import LassoCV, RidgeCV, ElasticNet\n",
    "from sklearn.model_selection import cross_val_score\n",
    "\n",
    "from scipy.stats import skew\n",
    "\n",
    "%config InlineBackend.figure_format = 'png' #set 'png' here when working on notebook\n",
    "%matplotlib inline\n",
    "%matplotlib inline"
   ]
  },
  {
   "cell_type": "code",
   "execution_count": 2,
   "metadata": {},
   "outputs": [],
   "source": [
    "train = pd.read_csv('/Users/EshaSomavarapu/Downloads/train01.csv')\n",
    "test = pd.read_csv('/Users/EshaSomavarapu/Downloads/test01.csv')"
   ]
  },
  {
   "cell_type": "code",
   "execution_count": 3,
   "metadata": {},
   "outputs": [],
   "source": [
    "#Use the top 50 features from Boruta for modeling\n",
    "\n",
    "features = ['GrLivArea', # 20.80162258 20.78502805 18.535841023 23.5716257     1.00 Confirmed\n",
    "'OverallQual', #17.20747969 17.26901173 14.735546931 18.7973371     1.00 Confirmed\n",
    "'2ndFlrSF', #13.97016925 14.02202180 10.257385951 16.5308220     1.00 Confirmed\n",
    "'TotalBsmtSF', #14.03116430 13.98628589 10.614392984 16.4311992     1.00 Confirmed\n",
    "'1stFlrSF', #13.53842250 13.59501091 10.887199720 15.3962367     1.00 Confirmed\n",
    "'GarageCars', #12.99096564 13.10911536 10.005608253 14.8684197     1.00 Confirmed\n",
    "'YearBuilt', #12.77227303 12.96056795  7.156390354 14.3606464     1.00 Confirmed\n",
    "'GarageArea', #12.87362160 12.94534460  9.580747522 14.3714374     1.00 Confirmed\n",
    "'ExterQual', #11.86835387 11.85978444  9.401588413 13.1237173     1.00 Confirmed\n",
    "'YearRemodAdd', #11.09346736 11.22757800  8.721053537 12.7273884     1.00 Confirmed\n",
    "'FireplaceQu', #10.87762424 10.93432931  5.498479708 13.0706797     1.00 Confirmed\n",
    "'GarageYrBlt', #10.67005514 10.82840809  8.501312236 12.1919028     1.00 Confirmed\n",
    "'FullBath', #10.47163205 10.51677018  8.732885348 11.8151891     1.00 Confirmed\n",
    "'MSSubClass', #9.96401126  9.98159856  7.613579283 12.2973335     1.00 Confirmed\n",
    "'LotArea', #9.79296636  9.89830848  6.943826388 12.5682534     1.00 Confirmed\n",
    "'Fireplaces', #9.66905933  9.84059387  5.554397962 11.6734722     1.00 Confirmed\n",
    "'KitchenQual', #9.77537742  9.69474211  7.989157468 11.6201471     1.00 Confirmed\n",
    "'MSZoning', #9.07975279  9.07074946  6.434779296 12.8499436     1.00 Confirmed\n",
    "'GarageType', #8.89128148  8.88041430  6.364256309 11.2319383     1.00 Confirmed\n",
    "'BsmtFinSF1', #8.84836324  8.83661964  5.059794077 12.2808132     1.00 Confirmed\n",
    "'Neighborhood', #8.57710266  8.51393920  7.188309021  9.9319210     1.00 Confirmed\n",
    "'BsmtQual', #8.23958487  8.36102702  5.663597143 10.1943948     1.00 Confirmed\n",
    "'TotRmsAbvGrd', #8.29632972  8.20660262  5.880224404 10.7969525     1.00 Confirmed\n",
    "'HalfBath', #7.60841029  7.66129333  5.608800395  9.4860838     1.00 Confirmed\n",
    "'BldgType', #7.64851612  7.63473450  5.604601563  9.7300625     1.00 Confirmed\n",
    "'GarageFinish', #7.37692819  7.48666734  5.001123540  9.6642313     1.00 Confirmed\n",
    "'Foundation', #7.04380599  7.07941011  3.939492747  8.3260506     1.00 Confirmed\n",
    "'BedroomAbvGr', #6.97855776  6.92797733  5.180428532  9.2605613     1.00 Confirmed\n",
    "'HouseStyle', #6.47562365  6.52982412  3.809114311  8.8377330     1.00 Confirmed\n",
    "'CentralAir', #6.32975959  6.41964096  4.194141479  8.3902280     1.00 Confirmed\n",
    "'OpenPorchSF', #6.30199504  6.28881903  3.942399414  8.8216412     1.00 Confirmed\n",
    "'HeatingQC', #6.15728069  6.11610877  4.608494036  7.7905369     1.00 Confirmed\n",
    "'BsmtFinType1', #5.85144584  5.92653496  4.122724825  8.1796761     1.00 Confirmed\n",
    "'BsmtUnfSF', #5.72337504  5.77767513  2.475702180  7.6975185     0.99 Confirmed\n",
    "'GarageCond', #5.65861401  5.68221518  3.893953120  7.3790515     1.00 Confirmed\n",
    "'GarageQual', #5.32749624  5.47989904  2.204987026  7.5430524     0.98 Confirmed\n",
    "'KitchenAbvGr', #5.20143995  5.20928831  3.115232120  6.4785585     1.00 Confirmed\n",
    "'OverallCond', #5.31829536  5.13141579  3.055097039  8.9185568     1.00 Confirmed\n",
    "'BsmtCond', #4.82229965  4.87416889  2.918196299  7.9059434     1.00 Confirmed\n",
    "'MasVnrArea', #4.93836457  4.85991807  2.408535137  8.1105552     0.98 Confirmed\n",
    "'BsmtFullBath', #4.41994585  4.30670156  2.401730987  7.4791359     0.96 Confirmed\n",
    "'Exterior1st', #4.23179837  4.20688483  2.413359612  6.1084226     0.96 Confirmed\n",
    "'Exterior2nd', #3.97397863  4.07693335  0.914055339  6.2613844     0.89 Confirmed\n",
    "'PavedDrive', #3.97533101  3.96847203  1.957404499  5.6070983     0.96 Confirmed\n",
    "'WoodDeckSF', #3.74508340  3.78245883  1.512694778  6.1396681     0.86 Confirmed\n",
    "'LandContour', #3.65162656  3.64218746  1.018541052  5.1008705     0.87 Confirmed\n",
    "'MasVnrType', #2.95553280  3.05884348  0.346963203  5.0935353     0.70 Confirmed\n",
    "'BsmtFinType2', #3.06100746  3.03632436  0.568929418  4.5369251     0.75 Confirmed\n",
    "'Functional', #2.97692887  3.01410578  1.007001090  4.9277739     0.72 Confirmed\n",
    "'Fence', #2.87437847  2.84348778  1.237296721  3.9823772     0.68 Confirmed\n",
    "## 51 SaleCondition  2.65025391  2.70646118  0.951359668  4.4601754     0.52 Tentative\n",
    "## 52         Alley  2.67035733  2.70472574  1.268680305  4.3114284     0.58 Tentative\n",
    "## 53      LotShape  2.63112778  2.67582920  0.699589380  4.8668368     0.54 Tentative\n",
    "## 54    Electrical  2.63078879  2.65208364  1.020791484  3.8209051     0.57 Tentative\n",
    "## 55     RoofStyle  2.47017605  2.61479890 -0.109630991  5.1061453     0.54 Tentative\n",
    "## 56    Condition1  2.29266882  2.40508855  0.039632740  3.7447582     0.42 Tentative\n",
    "## 57  BsmtExposure  2.49802250  2.38929143 -0.873824709  4.6534540     0.48 Tentative\n",
    "## 58 EnclosedPorch  2.24471184  2.35625698 -0.311363698  3.9287300     0.36 Tentative\n",
    "## 59     LandSlope  2.21914061  2.12040886  0.389757474  4.5015780     0.37 Tentative\n",
    "]"
   ]
  },
  {
   "cell_type": "code",
   "execution_count": 4,
   "metadata": {},
   "outputs": [],
   "source": [
    "train = train[features+['SalePrice']]\n",
    "test = test[['Id']+features]"
   ]
  },
  {
   "cell_type": "code",
   "execution_count": 5,
   "metadata": {},
   "outputs": [],
   "source": [
    "all_data = pd.concat((train.loc[:,'GrLivArea':'Fence'],\n",
    "                      test.loc[:,'GrLivArea':'Fence']))"
   ]
  },
  {
   "cell_type": "code",
   "execution_count": 28,
   "metadata": {},
   "outputs": [
    {
     "data": {
      "text/plain": [
       "array([[<matplotlib.axes._subplots.AxesSubplot object at 0x11c1d6320>,\n",
       "        <matplotlib.axes._subplots.AxesSubplot object at 0x11c2632e8>]], dtype=object)"
      ]
     },
     "execution_count": 28,
     "metadata": {},
     "output_type": "execute_result"
    },
    {
     "data": {
      "image/png": "[encoded data removed]",
      "text/plain": [
       "<matplotlib.figure.Figure at 0x11bc84fd0>"
      ]
     },
     "metadata": {},
     "output_type": "display_data"
    }
   ],
   "source": [
    "#Transform Sale Price and plot the histogram\n",
    "plt.rcParams['figure.figsize'] = (12.0, 6.0)\n",
    "prices = pd.DataFrame({\"price\":train[\"SalePrice\"], \"log(price + 1)\":np.log1p(train[\"SalePrice\"])})\n",
    "prices.hist()"
   ]
  },
  {
   "cell_type": "code",
   "execution_count": 10,
   "metadata": {},
   "outputs": [],
   "source": [
    "#log transform the target:\n",
    "train[\"SalePrice\"] = np.log1p(train[\"SalePrice\"])\n",
    "\n",
    "\n",
    "\n",
    "#log transform skewed numeric features:\n",
    "numeric_feats = all_data.dtypes[all_data.dtypes != \"object\"].index\n",
    "\n",
    "skewed_feats = train[numeric_feats].apply(lambda x: skew(x.dropna())) #compute skewness\n",
    "skewed_feats = skewed_feats[skewed_feats > 0.75]\n",
    "skewed_feats = skewed_feats.index\n",
    "\n",
    "all_data[skewed_feats] = np.log1p(all_data[skewed_feats])"
   ]
  },
  {
   "cell_type": "code",
   "execution_count": 11,
   "metadata": {},
   "outputs": [],
   "source": [
    "#impute NA's, numerical features with the median, categorical values with most common value:\n",
    "\n",
    "for feature in all_data.select_dtypes(exclude=['object']).columns:\n",
    "        all_data[feature].fillna(all_data[feature].median(), inplace = True)\n",
    "for feature in all_data.select_dtypes(include=['object']).columns: \n",
    "        all_data[feature].fillna(all_data[feature].value_counts().idxmax(), inplace = True)"
   ]
  },
  {
   "cell_type": "code",
   "execution_count": 12,
   "metadata": {},
   "outputs": [],
   "source": [
    "#Dummy Code data\n",
    "all_data = pd.get_dummies(all_data)"
   ]
  },
  {
   "cell_type": "code",
   "execution_count": 13,
   "metadata": {},
   "outputs": [],
   "source": [
    "# Create subsets of x, y and test sets to be fed into sklearn\n",
    "X_train = all_data[:train.shape[0]]\n",
    "X_test = all_data[train.shape[0]:]\n",
    "y = train.SalePrice"
   ]
  },
  {
   "cell_type": "code",
   "execution_count": 16,
   "metadata": {},
   "outputs": [
    {
     "data": {
      "text/plain": [
       "0.011086249375666966"
      ]
     },
     "execution_count": 16,
     "metadata": {},
     "output_type": "execute_result"
    }
   ],
   "source": [
    "#Import data \n",
    "## Calculate the RMLSE for elastic Net regularization\n",
    "\n",
    "from sklearn.linear_model import ElasticNet\n",
    "from sklearn.model_selection import cross_val_score\n",
    "from itertools import product\n",
    "\n",
    "elastic = ElasticNet(alpha=0.0005, l1_ratio=0.9)\n",
    "np.sqrt(-cross_val_score(elastic, X_train, yelastic.fit(X_train, y), cv=10, scoring='neg_mean_squared_error')).mean()"
   ]
  },
  {
   "cell_type": "code",
   "execution_count": 17,
   "metadata": {},
   "outputs": [
    {
     "data": {
      "text/plain": [
       "ElasticNet(alpha=0.0005, copy_X=True, fit_intercept=True, l1_ratio=0.9,\n",
       "      max_iter=1000, normalize=False, positive=False, precompute=False,\n",
       "      random_state=None, selection='cyclic', tol=0.0001, warm_start=False)"
      ]
     },
     "execution_count": 17,
     "metadata": {},
     "output_type": "execute_result"
    }
   ],
   "source": [
    "#Fit the model\n",
    "elastic.fit(X_train, y)"
   ]
  },
  {
   "cell_type": "code",
   "execution_count": 19,
   "metadata": {},
   "outputs": [
    {
     "data": {
      "text/plain": [
       "<matplotlib.axes._subplots.AxesSubplot at 0x10d79c518>"
      ]
     },
     "execution_count": 19,
     "metadata": {},
     "output_type": "execute_result"
    },
    {
     "data": {
      "image/png": "[encoded data removed]",
      "text/plain": [
       "<matplotlib.figure.Figure at 0x11bc949e8>"
      ]
     },
     "metadata": {},
     "output_type": "display_data"
    }
   ],
   "source": [
    "#let's look at the residuals as well:\n",
    "plt.rcParams['figure.figsize'] = (6.0, 6.0)\n",
    "\n",
    "preds = pd.DataFrame({\"preds\":elastic.predict(X_train), \"true\":y})\n",
    "preds[\"residuals\"] = preds[\"true\"] - preds[\"preds\"]\n",
    "preds.plot(x = \"preds\", y = \"residuals\",kind = \"scatter\")"
   ]
  },
  {
   "cell_type": "code",
   "execution_count": 20,
   "metadata": {},
   "outputs": [
    {
     "name": "stdout",
     "output_type": "stream",
     "text": [
      "RMSE: 0.0110\n"
     ]
    }
   ],
   "source": [
    "#Calculate RMSE\n",
    "rmse = np.sqrt(np.mean((preds['true']-preds['preds'])**2))\n",
    "print ('RMSE: {0:.4f}'.format(rmse))"
   ]
  },
  {
   "cell_type": "code",
   "execution_count": 21,
   "metadata": {},
   "outputs": [
    {
     "name": "stdout",
     "output_type": "stream",
     "text": [
      "R^2 train: 0.871\n"
     ]
    }
   ],
   "source": [
    "#Calculate R^2\n",
    "from sklearn.metrics import r2_score\n",
    "print('R^2 train: %.3f' %  r2_score(preds['true'], preds['preds']))"
   ]
  },
  {
   "cell_type": "code",
   "execution_count": 22,
   "metadata": {},
   "outputs": [],
   "source": [
    "#coef = pd.Series(elastic.coef_, index = X_train.columns)"
   ]
  }
 ],
 "metadata": {
  "kernelspec": {
   "display_name": "Python 3",
   "language": "python",
   "name": "python3"
  },
  "language_info": {
   "codemirror_mode": {
    "name": "ipython",
    "version": 3
   },
   "file_extension": ".py",
   "mimetype": "text/x-python",
   "name": "python",
   "nbconvert_exporter": "python",
   "pygments_lexer": "ipython3",
   "version": "3.6.1"
  }
 },
 "nbformat": 4,
 "nbformat_minor": 2
}
